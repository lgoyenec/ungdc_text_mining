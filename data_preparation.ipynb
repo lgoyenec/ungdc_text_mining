{
 "cells": [
  {
   "cell_type": "markdown",
   "metadata": {},
   "source": [
    "# UNGDC\n",
    "## Data collection and preparation\n",
    "### Unstructured Data Analytics, Spring 2020 <br>\n",
    "\n",
    "Laura Goyeneche  <br>\n",
    "Lindsay Graff    <br>\n",
    "Jana Macickova   <br>\n",
    "Ashita Vadlamudi <br>\n",
    "\n",
    "Heinz College of Information Systems and Public Policy <br>\n",
    "Carnegie Mellon University"
   ]
  },
  {
   "cell_type": "code",
   "execution_count": 1,
   "metadata": {},
   "outputs": [],
   "source": [
    "# Libraries \n",
    "import glob\n",
    "import numpy as np\n",
    "import pandas as pd\n",
    "from ipynb.fs.full.uda_functions import makeWordList, read_docs"
   ]
  },
  {
   "cell_type": "code",
   "execution_count": 2,
   "metadata": {},
   "outputs": [],
   "source": [
    "# Import UNGDC statements\n",
    "files   = [i for i in glob.glob('./data_sessions/*/*.txt')]\n",
    "files71 = [i for i in glob.glob('./data_sessions/Session 71 - 2016/*')]\n",
    "docs    = [read_docs(i) for i in files] + [read_docs(i) for i in files71]"
   ]
  },
  {
   "cell_type": "code",
   "execution_count": 3,
   "metadata": {},
   "outputs": [],
   "source": [
    "# Create year and country list for each statemets\n",
    "year    = [int(i.split('\\\\')[2][7:-4].strip('_')) for i in files] + [int(i.split('\\\\')[1][-4:]) for i in files71]\n",
    "country = [i.split('\\\\')[2][:3] for i in files] + [i.split('\\\\')[1][:3] for i in files71]"
   ]
  },
  {
   "cell_type": "code",
   "execution_count": 4,
   "metadata": {},
   "outputs": [],
   "source": [
    "# Replace year for cases with different format\n",
    "for i,j in enumerate(year):\n",
    "    if j == 11: year[i] = 2011\n",
    "    if j == 12: year[i] = 2012\n",
    "    if j == 13: year[i] = 2013\n",
    "    if j == 14: year[i] = 2014\n",
    "    if j == 15: year[i] = 2015"
   ]
  },
  {
   "cell_type": "code",
   "execution_count": 5,
   "metadata": {},
   "outputs": [],
   "source": [
    "# Upload additional data sources\n",
    "undocs   = pd.DataFrame({'text': docs, 'year': year, 'countryID': country})\n",
    "codebook = pd.read_csv('./data_sessions/speakers_by_session.csv', sep = ',', header = 0)\n",
    "wbank    = pd.read_csv('./data_worldbank/ESGData.csv', sep = ',', header = 0)\n",
    "wbankdet = pd.read_csv('./data_worldbank/ESGCountry_country_details.csv', sep = ',', header = 0)"
   ]
  },
  {
   "cell_type": "code",
   "execution_count": 6,
   "metadata": {},
   "outputs": [],
   "source": [
    "# Rename columns\n",
    "# Guarantee that common keys have same name\n",
    "codebook = codebook.rename(columns = {'Year':'year','ISO Code': 'countryID'})\n",
    "wbank    = wbank.rename(columns = {\"Country Code\": \"countryID\", \"Indicator Code\": \"indicator\"})\n",
    "wbankdet = wbankdet[['Country Code','Region','Income Group']]\n",
    "wbankdet = wbankdet.rename(columns = {'Country Code':'countryID','Region':'region','Income Group':'income_level'})"
   ]
  },
  {
   "cell_type": "code",
   "execution_count": 7,
   "metadata": {},
   "outputs": [],
   "source": [
    "# Reshape world bank indicators\n",
    "wbank2   = pd.wide_to_long(wbank, [\"y\"], i = [\"countryID\",\"indicator\"], j = \"year\").reset_index()\n",
    "wbank2   = wbank2.rename(columns = {'y': 'indicator_val'}) "
   ]
  },
  {
   "cell_type": "code",
   "execution_count": 8,
   "metadata": {},
   "outputs": [],
   "source": [
    "# Create one datatable\n",
    "# Merge Un docs, world BAnk Indicators and World Bank fixed characteristics\n",
    "db = pd.merge(undocs, codebook, on = ['year', 'countryID'])\n",
    "db = pd.merge(db, wbank2, on = ['year', 'countryID'])\n",
    "db = pd.merge(db, wbankdet, on = 'countryID')"
   ]
  },
  {
   "cell_type": "code",
   "execution_count": 9,
   "metadata": {},
   "outputs": [],
   "source": [
    "# Rename columns \n",
    "db = db.rename(columns = {'Session':'session','Name of Person Speaking':'speaker','text':'statement',\n",
    "                          'Language':'language','Notes':'notes','indicator':'indic_id',\n",
    "                          'Indicator Name':'indic_name','Country Name':'country_name','indicator_val':'indic_val',\n",
    "                          'Post':'speaker_post'})"
   ]
  },
  {
   "cell_type": "code",
   "execution_count": 10,
   "metadata": {},
   "outputs": [],
   "source": [
    "# Select features of interest\n",
    "db = db[['session','year','countryID','country_name','region','statement','speaker','speaker_post','indic_id','indic_name','indic_val','income_level','language']]"
   ]
  },
  {
   "cell_type": "code",
   "execution_count": 12,
   "metadata": {},
   "outputs": [],
   "source": [
    "# Drop duplicates and select features of interest\n",
    "db_a = db.drop_duplicates(subset = ['year', 'countryID'])\n",
    "db_a = db_a[['session','year','countryID','country_name','region','statement','speaker','speaker_post','income_level','language']]"
   ]
  },
  {
   "cell_type": "code",
   "execution_count": 14,
   "metadata": {},
   "outputs": [],
   "source": [
    "# Reshape to guarantee row driver: country-year\n",
    "db_b = db.pivot_table(index = ['year','countryID'], columns = 'indic_name', values = 'indic_val', dropna = False)"
   ]
  },
  {
   "cell_type": "code",
   "execution_count": 15,
   "metadata": {},
   "outputs": [],
   "source": [
    "# Merge with World Bank indicators again\n",
    "final_df = pd.merge(db_b, db_a , on = ['year', 'countryID'])"
   ]
  },
  {
   "cell_type": "code",
   "execution_count": 16,
   "metadata": {},
   "outputs": [],
   "source": [
    "# Export data to .txt format \n",
    "db.to_csv('final_df.csv')"
   ]
  }
 ],
 "metadata": {
  "kernelspec": {
   "display_name": "Python 3",
   "language": "python",
   "name": "python3"
  },
  "language_info": {
   "codemirror_mode": {
    "name": "ipython",
    "version": 3
   },
   "file_extension": ".py",
   "mimetype": "text/x-python",
   "name": "python",
   "nbconvert_exporter": "python",
   "pygments_lexer": "ipython3",
   "version": "3.7.1"
  }
 },
 "nbformat": 4,
 "nbformat_minor": 2
}
