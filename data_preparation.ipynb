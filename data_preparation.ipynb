{
 "cells": [
  {
   "cell_type": "markdown",
   "metadata": {},
   "source": [
    " ### Data Preparation\n",
    " #### Unstructured Data Analysis"
   ]
  },
  {
   "cell_type": "code",
   "execution_count": 1,
   "metadata": {},
   "outputs": [],
   "source": [
    "import glob\n",
    "import numpy as np\n",
    "import pandas as pd\n",
    "from ipynb.fs.full.uda_functions import makeWordList, read_docs"
   ]
  },
  {
   "cell_type": "code",
   "execution_count": 2,
   "metadata": {},
   "outputs": [],
   "source": [
    "files   = [i for i in glob.glob('./data_sessions/*/*.txt')]\n",
    "files71 = [i for i in glob.glob('./data_sessions/Session 71 - 2016/*')]\n",
    "docs    = [read_docs(i) for i in files] + [read_docs(i) for i in files71]"
   ]
  },
  {
   "cell_type": "code",
   "execution_count": 3,
   "metadata": {},
   "outputs": [],
   "source": [
    "year    = [int(i.split('\\\\')[2][7:-4].strip('_')) for i in files] + [int(i.split('\\\\')[1][-4:]) for i in files71]\n",
    "country = [i.split('\\\\')[2][:3] for i in files] + [i.split('\\\\')[1][:3] for i in files71]"
   ]
  },
  {
   "cell_type": "code",
   "execution_count": 4,
   "metadata": {},
   "outputs": [],
   "source": [
    "for i,j in enumerate(year):\n",
    "    if j == 11: year[i] = 2011\n",
    "    if j == 12: year[i] = 2012\n",
    "    if j == 13: year[i] = 2013\n",
    "    if j == 14: year[i] = 2014\n",
    "    if j == 15: year[i] = 2015"
   ]
  },
  {
   "cell_type": "code",
   "execution_count": 5,
   "metadata": {},
   "outputs": [],
   "source": [
    "undocs   = pd.DataFrame({'text': docs, 'year': year, 'countryID': country})\n",
    "codebook = pd.read_csv('./data_sessions/speakers_by_session.csv', sep = ',', header = 0)\n",
    "wbank    = pd.read_csv('./data_worldbank/ESGData.csv', sep = ',', header = 0)\n",
    "wbankdet = pd.read_csv('./data_worldbank/ESGCountry_country_details.csv', sep = ',', header = 0)"
   ]
  },
  {
   "cell_type": "code",
   "execution_count": 6,
   "metadata": {},
   "outputs": [],
   "source": [
    "codebook = codebook.rename(columns = {'Year':'year','ISO Code': 'countryID'})\n",
    "wbank    = wbank.rename(columns = {\"Country Code\": \"countryID\", \"Indicator Code\": \"indicator\"})\n",
    "wbankdet = wbankdet[['Country Code','Region','Income Group']]\n",
    "wbankdet = wbankdet.rename(columns = {'Country Code':'countryID','Region':'region','Income Group':'income_level'})"
   ]
  },
  {
   "cell_type": "code",
   "execution_count": 7,
   "metadata": {},
   "outputs": [],
   "source": [
    "wbank2   = pd.wide_to_long(wbank, [\"y\"], i = [\"countryID\",\"indicator\"], j = \"year\").reset_index()\n",
    "wbank2   = wbank2.rename(columns = {'y': 'indicator_val'}) "
   ]
  },
  {
   "cell_type": "code",
   "execution_count": 15,
   "metadata": {},
   "outputs": [],
   "source": [
    "db = pd.merge(undocs, codebook, on = ['year', 'countryID'])\n",
    "db = pd.merge(db, wbank2, on = ['year', 'countryID'])\n",
    "db = pd.merge(db, wbankdet, on = 'countryID')"
   ]
  },
  {
   "cell_type": "code",
   "execution_count": 16,
   "metadata": {},
   "outputs": [],
   "source": [
    "db = db.rename(columns = {'Session':'session','Name of Person Speaking':'speaker','text':'statement',\n",
    "                          'Language':'language','Notes':'notes','indicator':'indic_id',\n",
    "                          'Indicator Name':'indic_name','Country Name':'country_name','indicator_val':'indic_val',\n",
    "                          'Post':'speaker_post'})"
   ]
  },
  {
   "cell_type": "code",
   "execution_count": 18,
   "metadata": {},
   "outputs": [],
   "source": [
    "db = db[['session','year','countryID','country_name','region','statement','speaker','speaker_post','indic_id','indic_name','indic_val','income_level','language']]"
   ]
  },
  {
   "cell_type": "code",
   "execution_count": 19,
   "metadata": {},
   "outputs": [],
   "source": [
    "db.to_csv('db_final.txt')"
   ]
  }
 ],
 "metadata": {
  "kernelspec": {
   "display_name": "Python 3",
   "language": "python",
   "name": "python3"
  },
  "language_info": {
   "codemirror_mode": {
    "name": "ipython",
    "version": 3
   },
   "file_extension": ".py",
   "mimetype": "text/x-python",
   "name": "python",
   "nbconvert_exporter": "python",
   "pygments_lexer": "ipython3",
   "version": "3.7.1"
  }
 },
 "nbformat": 4,
 "nbformat_minor": 2
}
